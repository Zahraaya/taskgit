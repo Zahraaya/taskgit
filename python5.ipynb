{
 "cells": [
  {
   "cell_type": "code",
   "execution_count": null,
   "metadata": {},
   "outputs": [],
   "source": [
    "import pandas as pd\n",
    "from datetime import datetime\n",
    "\n",
    "class MarketingDataETL:\n",
    "    def __init__(self):\n",
    "        self.data = None\n",
    "\n",
    "    def extract(self, file_path):\n",
    "        self.data = pd.read_csv(file_path)\n",
    "        return self.data\n",
    "\n",
    "    def transform(self):\n",
    "        # dropna untuk membuang baris yang salah satu isinya kosong\n",
    "        self.data['purchase_date'] = pd.to_datetime(self.data['purchase_date'], errors='coerce')\n",
    "        self.data = self.data.dropna().reset_index(drop=True)\n",
    "        return self.data\n",
    "\n",
    "    def store(self, transformed_data, store_path):\n",
    "        transformed_data.to_csv(store_path, index=False)\n",
    "\n"
   ]
  },
  {
   "cell_type": "code",
   "execution_count": null,
   "metadata": {},
   "outputs": [],
   "source": [
    "df= pd.read_csv('marketing_data.csv')\n",
    "df"
   ]
  },
  {
   "cell_type": "code",
   "execution_count": null,
   "metadata": {},
   "outputs": [],
   "source": [
    "import numpy as np\n",
    "\n",
    "class MarketingDataETL():\n",
    "    def __init__(self):\n",
    "        self.data = pd.read_csv('marketing_data.csv', sep=';')\n",
    "\n",
    "    def extract(self):\n",
    "        print(\"Data Before Transform:\")\n",
    "        print(self.data)\n",
    "        return self.data\n",
    "\n",
    "    def transform(self):\n",
    "        if 'purchase_date' in self.data.columns:\n",
    "            self.data.dropna(subset=['purchase_date'], inplace=True)\n",
    "            self.data['purchase_date'] = pd.to_datetime(self.data['purchase_date'], errors='coerce')\n",
    "            print(\"Data After Transform:\")\n",
    "            print(self.data)\n",
    "        return self.data\n",
    "\n",
    "class TargetedMarketingETL(MarketingDataETL):\n",
    "    def __init__(self):\n",
    "        super().__init__()\n",
    "\n",
    "    def segment_customers(self):\n",
    "        if self.data is not None:\n",
    "            conditions = [\n",
    "                (self.data['amount_spent'] <= 100),\n",
    "                (self.data['amount_spent'] > 100) & (self.data['amount_spent'] <= 200),\n",
    "                (self.data['amount_spent'] > 200)\n",
    "            ]\n",
    "            choices = ['Low Spending', 'Medium Spending', 'High Spending']\n",
    "            self.data['spending_segment'] = pd.Series(np.select(conditions, choices), index=self.data.index)\n",
    "            print(\"Segmenting Customers Based on Spending:\")\n",
    "            print(self.data)\n",
    "\n",
    "    def transform(self):\n",
    "        super().transform()\n",
    "        self.segment_customers()\n",
    "\n",
    "    def store_segmented_data(self, output_file_path):\n",
    "        if self.data is not None:\n",
    "            try:\n",
    "                self.data.to_excel(output_file_path, index=False)\n",
    "                print(f\"Segmented Data Successfully Saved To {output_file_path}\")\n",
    "            except Exception as e:\n",
    "                print(f\"Error Saving Segmented Data: {e}\")\n",
    "\n",
    "targeted_marketing_etl = TargetedMarketingETL()\n",
    "targeted_marketing_etl.extract()\n",
    "targeted_marketing_etl.transform()\n",
    "targeted_marketing_etl.store_segmented_data(\"segmented_data_etl.xlsx\")"
   ]
  }
 ],
 "metadata": {
  "kernelspec": {
   "display_name": "Python 3",
   "language": "python",
   "name": "python3"
  },
  "language_info": {
   "codemirror_mode": {
    "name": "ipython",
    "version": 3
   },
   "file_extension": ".py",
   "mimetype": "text/x-python",
   "name": "python",
   "nbconvert_exporter": "python",
   "pygments_lexer": "ipython3",
   "version": "3.11.8"
  }
 },
 "nbformat": 4,
 "nbformat_minor": 2
}
